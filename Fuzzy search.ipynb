{
 "cells": [
  {
   "cell_type": "code",
   "execution_count": 35,
   "metadata": {},
   "outputs": [
    {
     "name": "stdout",
     "output_type": "stream",
     "text": [
      "output_alexa06292020142748.csv\n",
      "                                              text 1  \\\n",
      "0  A team of researchers from Sunnybrook, McMaste...   \n",
      "1                                                NaN   \n",
      "2  Most antivirals in use today target parts of a...   \n",
      "3  The world has now recorded its 10 millionth pe...   \n",
      "4                                                NaN   \n",
      "5  CDC recommends that people wear cloth face cov...   \n",
      "6  Most of the world, including Turkey, has start...   \n",
      "7  Scientists in Britain announced a major breakt...   \n",
      "0  Summary of Recent Changes Revisions were made ...   \n",
      "1  These tips can help people with diabetes prepa...   \n",
      "2  Heart disease is the leading cause of death in...   \n",
      "3  Body Mass Index (BMI) is a person’s weight in ...   \n",
      "4  Over time, diabetes can affect any part of you...   \n",
      "5  The risk of catching the coronavirus by ventur...   \n",
      "6  Image copyright Getty Images Image caption Peo...   \n",
      "7  As the coronavirus began to spread in the Unit...   \n",
      "\n",
      "                                              text 2  \\\n",
      "0                                                NaN   \n",
      "1                                                      \n",
      "2             Editions    Africa  Australia  Cana...   \n",
      "3       Skip to main content ABC News Homepage Se...   \n",
      "4          Skip to main content                  ...   \n",
      "5                                               S...   \n",
      "6                                                NaN   \n",
      "7                                                NaN   \n",
      "0                                              Sk...   \n",
      "1                             Skip directly to si...   \n",
      "2                                 Skip directly t...   \n",
      "3                                 Skip directly t...   \n",
      "4                           Skip directly to site...   \n",
      "5                                         The wor...   \n",
      "6          Homepage Accessibility links Skip to c...   \n",
      "7             Editions    Africa  Australia  Cana...   \n",
      "\n",
      "                                                 url  \n",
      "0  https://sunnybrook.ca/research/media/item.asp?...  \n",
      "1  https://www.cdc.gov/coronavirus/2019-nCoV/summ...  \n",
      "2  https://theconversation.com/coronavirus-and-ca...  \n",
      "3  https://www.abc.net.au/news/2020-06-28/world-r...  \n",
      "4  https://www.medrxiv.org/content/10.1101/2020.0...  \n",
      "5  https://www.cdc.gov/coronavirus/2019-ncov/prev...  \n",
      "6  https://www.dailysabah.com/life/health/how-ris...  \n",
      "7  https://www.nytimes.com/2020/06/24/health/coro...  \n",
      "0  https://www.cdc.gov/coronavirus/2019-ncov/need...  \n",
      "1  https://www.cdc.gov/diabetes/managing/flu-sick...  \n",
      "2         https://www.cdc.gov/heartdisease/index.htm  \n",
      "3  https://www.cdc.gov/healthyweight/assessing/bm...  \n",
      "4  https://www.cdc.gov/diabetes/managing/problems...  \n",
      "5  https://www.businessinsider.com/riskiest-to-le...  \n",
      "6           https://www.bbc.com/news/health-52849691  \n",
      "7  https://theconversation.com/americans-disagree...  \n"
     ]
    }
   ],
   "source": [
    "import pandas as pd\n",
    "import glob\n",
    "import os\n",
    "list_of_files = glob.glob('output_google*') # * means all if need specific format then *.csv\n",
    "latest_file = max(list_of_files, key=os.path.getctime)\n",
    "#print(latest_file)\n",
    "df_g = pd.read_csv(latest_file)\n",
    "df_g=df_g[['url','article_text1','article_text2']]\n",
    "df_g.columns = ['url','text 1','text 2']\n",
    "#print(df_g)\n",
    "\n",
    "list_of_files = glob.glob('output_alexa*') # * means all if need specific format then *.csv\n",
    "latest_file = max(list_of_files, key=os.path.getctime)\n",
    "print(latest_file)\n",
    "df_a = pd.read_csv(latest_file)\n",
    "#print(df_a)\n",
    "\n",
    "df3 = df_a\n",
    "df3=pd.concat([df3,df_g], sort = True)\n",
    "df3=df3.drop_duplicates(['url'])\n",
    "print(df3)\n"
    "print('Update')"
   ]
  },
  {
   "cell_type": "code",
   "execution_count": null,
   "metadata": {},
   "outputs": [],
   "source": []
  }
 ],
 "metadata": {
  "kernelspec": {
   "display_name": "Python 3",
   "language": "python",
   "name": "python3"
  },
  "language_info": {
   "codemirror_mode": {
    "name": "ipython",
    "version": 3
   },
   "file_extension": ".py",
   "mimetype": "text/x-python",
   "name": "python",
   "nbconvert_exporter": "python",
   "pygments_lexer": "ipython3",
   "version": "3.6.5"
  }
 },
 "nbformat": 4,
 "nbformat_minor": 2
}
