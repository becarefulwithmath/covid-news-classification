{
 "cells": [
  {
   "cell_type": "code",
   "execution_count": 13,
   "metadata": {},
   "outputs": [
    {
     "name": "stdout",
     "output_type": "stream",
     "text": [
      "<class 'str'>\n",
      "\n",
      "\"Displaying 23 of 23 matches:\n",
      "ealth Organisation ( WHO ) declared it a pandemic . Coronavirus update : Follow\n",
      "ly ruled responsible for close to half a million deaths worldwide . The road to\n",
      "orldwide . The road to 10 million From a cluster of unusual pneumonia cases in \n",
      "lmost 6,500 new infections reported in a day in mid-February . The reproduction\n",
      " earlier . These were soon extended to a countrywide lockdown , and by the midd\n",
      "he first time the country had reported a death toll in the single digits since \n",
      "e March 1 . Although Russia has become a new hotspot , the virus seems to have \n",
      "untry borders , and by April there was a new global epicentre : the United Stat\n",
      "lipsed those of Europe . For more than a month , the United States alone was re\n",
      "d States alone was reporting more than a third of the world 's infections . Hot\n",
      "ica will be dealing with the virus for a long time to come . Coronavirus questi\n",
      "ad more The WHO declared South America a new epicentre in late May , and this m\n",
      " social distancing and described it as a job-killing measure . Brazil has alrea\n",
      "rea ) SARS-CoV-2 has been spreading at a much slower rate in Africa , but the W\n",
      "ing found outside capital cities , and a lack of testing capacity and supplies \n",
      "with South Africa alone accounting for a third of the more than 350,000 confirm\n",
      " died . But that has been driven up by a handful of countries with poor surviva\n",
      "ates . In the chart below , the higher a country appears vertically , the highe\n",
      "hest case fatality rate in the world . A bigger contribution to the global fata\n",
      "ity rates also tend to be higher where a country has been unable to do enough t\n",
      "ronavirus : The symptoms Should I wear a face mask and gloves ? The number of c\n",
      " questions answered 'The Lancet 's got a bit of form , here ' : How did a retra\n",
      "s got a bit of form , here ' : How did a retracted study on hydroxychloroquine \n",
      "\"\n",
      "\n"
     ]
    }
   ],
   "source": [
    "#function text crearing\n",
    "def text_clearing(raw_text: str) -> str:\n",
    "    raw_text = raw_text.replace('no matches','')\n",
    "\n",
    "    return raw_text\n",
    "\n",
    "\"\"\"    raw_text.replace('\\n','XXX')\n",
    "    counter_i = 0\n",
    "    while counter_i <= 50:\n",
    "        raw_text.replace('Displaying '+str(counter_i)+' of '+str(counter_i)+' matches:','xxxxxxxxx')\n",
    "        counter_i = counter_i + 1\n",
    "    clean_text = raw_text\n",
    "    return clean_text\"\"\"\n",
    "\n",
    "file = open('file', 'r', encoding = 'utf-8')\n",
    "results = str(file.read())\n",
    "print(type(results))\n",
    "results = results.replace('no matches','')\n",
    "print(text_clearing(results))"
   ]
  },
  {
   "cell_type": "code",
   "execution_count": null,
   "metadata": {},
   "outputs": [],
   "source": []
  }
 ],
 "metadata": {
  "kernelspec": {
   "display_name": "Python 3",
   "language": "python",
   "name": "python3"
  },
  "language_info": {
   "codemirror_mode": {
    "name": "ipython",
    "version": 3
   },
   "file_extension": ".py",
   "mimetype": "text/x-python",
   "name": "python",
   "nbconvert_exporter": "python",
   "pygments_lexer": "ipython3",
   "version": "3.6.5"
  }
 },
 "nbformat": 4,
 "nbformat_minor": 2
}
